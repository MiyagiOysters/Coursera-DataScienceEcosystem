{
 "cells": [
  {
   "cell_type": "markdown",
   "id": "05373985-06f4-4b3e-8cde-56a05c3bdbc5",
   "metadata": {},
   "source": [
    "# Data Science Tools and Ecosystem"
   ]
  },
  {
   "cell_type": "markdown",
   "id": "204f19a4-30c2-4a42-8e51-5a18e88fe004",
   "metadata": {},
   "source": [
    "In this notebook, Data Science Tools and Ecosystem are summarized."
   ]
  },
  {
   "cell_type": "markdown",
   "id": "0555621f-b53c-4e6f-b17c-11ae3d9ce607",
   "metadata": {},
   "source": [
    "Some of the popular languages that Data Scientists use are:\n",
    "1. Python\n",
    "2. R\n",
    "3. Scala\n",
    "4. Javascript\n",
    "5. SQL"
   ]
  },
  {
   "cell_type": "markdown",
   "id": "15e5a452-f6f0-446e-a5a1-22e9ee01c158",
   "metadata": {},
   "source": [
    "Some of the commonly used libraries used by Data Scientists include:\n",
    "1. Matplotlib\n",
    "2. Seaborns\n",
    "3. Scipy\n",
    "4. ggplot"
   ]
  },
  {
   "cell_type": "markdown",
   "id": "abbcdc39-23f7-4f46-9430-48af0e53063c",
   "metadata": {},
   "source": [
    "|Data Science Tools|\n",
    "|----|\n",
    "|Jupyter Notebook|\n",
    "|RStudio|\n",
    "|Apache Spark|\n",
    "|Tensorflow|"
   ]
  },
  {
   "cell_type": "markdown",
   "id": "ecc45de0-3f54-4ee9-9bec-1415d40eed1b",
   "metadata": {},
   "source": [
    "### Below are a few examples of evaluating arithmetic expressions in Python\n",
    "* 2 + 2 = 4\n",
    "* 2 * 2 = 4\n",
    "* 2 - 2 = 0"
   ]
  },
  {
   "cell_type": "code",
   "execution_count": 3,
   "id": "2afef348-f6f6-45af-b7dc-73de01ee21c3",
   "metadata": {},
   "outputs": [
    {
     "data": {
      "text/plain": [
       "17"
      ]
     },
     "execution_count": 3,
     "metadata": {},
     "output_type": "execute_result"
    }
   ],
   "source": [
    "#This a simple arithmetic expression to mutiply then add integers\n",
    "(3*4)+5"
   ]
  },
  {
   "cell_type": "code",
   "execution_count": 9,
   "id": "46f20ce7-ff84-42d4-8ebf-e0839d81cf6b",
   "metadata": {},
   "outputs": [
    {
     "name": "stdout",
     "output_type": "stream",
     "text": [
      "200 minutes is equivalent to 3.33 hours\n"
     ]
    }
   ],
   "source": [
    "#This will convert 200 minutes to hours by dividing by 60\n",
    "mins = 200\n",
    "hours = mins / 60\n",
    "print(f'{mins} minutes is equivalent to {hours:.2f} hours')"
   ]
  },
  {
   "cell_type": "markdown",
   "id": "c475a47a-2585-483b-928f-3006229c453a",
   "metadata": {},
   "source": [
    "**Objectives:**\n",
    "- List popular languages for Data Science\n",
    "- List simple arithmetic expressions using markdown\n",
    "- Compute arithmetic expressions using python"
   ]
  },
  {
   "cell_type": "markdown",
   "id": "6385eec7-184a-4820-9e59-eef7b84ee755",
   "metadata": {},
   "source": [
    "## Author:\n",
    "Alvin Zhou"
   ]
  },
  {
   "cell_type": "code",
   "execution_count": null,
   "id": "0774c443-dcf0-40eb-9215-237ce0bf611a",
   "metadata": {},
   "outputs": [],
   "source": []
  }
 ],
 "metadata": {
  "kernelspec": {
   "display_name": "Python 3 (ipykernel)",
   "language": "python",
   "name": "python3"
  },
  "language_info": {
   "codemirror_mode": {
    "name": "ipython",
    "version": 3
   },
   "file_extension": ".py",
   "mimetype": "text/x-python",
   "name": "python",
   "nbconvert_exporter": "python",
   "pygments_lexer": "ipython3",
   "version": "3.12.3"
  }
 },
 "nbformat": 4,
 "nbformat_minor": 5
}
